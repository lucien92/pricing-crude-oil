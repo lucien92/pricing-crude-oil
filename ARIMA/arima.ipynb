{
 "cells": [
  {
   "cell_type": "code",
   "execution_count": 1,
   "metadata": {},
   "outputs": [],
   "source": [
    "import pandas as pd\n",
    "import matplotlib.pyplot as plt\n",
    "import seaborn as sbn\n",
    "import numpy as np\n",
    "import sklearn"
   ]
  },
  {
   "cell_type": "code",
   "execution_count": 2,
   "metadata": {},
   "outputs": [],
   "source": [
    "week = \"/home/lucien/Bureau/projet_ml_finance/datahub/wti-week_csv.csv\"\n",
    "daily = \"/home/lucien/Bureau/projet_ml_finance/datahub/wti-daily_csv.csv\"\n",
    "\n",
    "data_week = pd.read_csv(week, delimiter = ',')\n",
    "data_daily = pd.read_csv(daily, delimiter = ',')"
   ]
  },
  {
   "cell_type": "markdown",
   "metadata": {},
   "source": [
    "Preprocessing des données: format datetime et traitement des données manquantes"
   ]
  },
  {
   "cell_type": "code",
   "execution_count": 3,
   "metadata": {},
   "outputs": [
    {
     "name": "stderr",
     "output_type": "stream",
     "text": [
      "/tmp/ipykernel_4602/779900049.py:6: FutureWarning: Series.fillna with 'method' is deprecated and will raise in a future version. Use obj.ffill() or obj.bfill() instead.\n",
      "  data_week['Price'].fillna(method='ffill', inplace=True)\n"
     ]
    }
   ],
   "source": [
    "#format datime\n",
    "data_week['Date'] = pd.to_datetime(data_week['Date'])\n",
    "\n",
    "#on complète les valeurs de Price null avec la méthode forward fill\n",
    "\n",
    "data_week['Price'].fillna(method='ffill', inplace=True)"
   ]
  },
  {
   "cell_type": "code",
   "execution_count": 4,
   "metadata": {},
   "outputs": [],
   "source": [
    "#split train et valid set\n",
    "\n",
    "from sklearn.model_selection import train_test_split\n",
    "\n",
    "# Diviser les données en ensembles d'entraînement et de test (par exemple, 80% - 20%)\n",
    "train_size = 0.8  # Taille de l'ensemble d'entraînement\n",
    "train_data, test_data = train_test_split(data_daily, train_size=train_size, shuffle=False)\n"
   ]
  },
  {
   "cell_type": "markdown",
   "metadata": {},
   "source": [
    "LET'S SELECTE THE HYPERPARAMETERS P, D AND Q OF THE ARIMA MODEL .\n",
    "\n",
    "AIC = mesure statistique type grid search qui prend en compte la complexité du modèle.\n",
    "For that we compute AIC (AIkake information criterion) for every sarimax. AIC = 2*(number of parameter - log(MLE for this model)). We want the min of AIC. "
   ]
  },
  {
   "cell_type": "code",
   "execution_count": 5,
   "metadata": {},
   "outputs": [
    {
     "name": "stdout",
     "output_type": "stream",
     "text": [
      "Best AIC: 20969.946282702287\n",
      "Best Parameters: (2, 1, 2)\n"
     ]
    }
   ],
   "source": [
    "import itertools\n",
    "import pandas as pd\n",
    "import numpy as np\n",
    "import statsmodels.api as sm\n",
    "import warnings\n",
    "\n",
    "warnings.filterwarnings(\"ignore\") # specify to ignore warning messages\n",
    "\n",
    "# Generate a grid of p, d, q values\n",
    "p = d = q = range(0, 3)  # Try values from 0 to 2 for p, d, q, ce sont les intervalles dans lesquels varient les hyperparamètres\n",
    "pdq = list(itertools.product(p, d, q))\n",
    "\n",
    "# Perform grid search to find the best parameters, without cross validation because results.aic is done on empirical risk\n",
    "subset_data = train_data['Price'].copy()\n",
    "best_aic = np.inf\n",
    "best_params = None\n",
    "for param in pdq:\n",
    "    model = sm.tsa.ARIMA(subset_data, order=param)\n",
    "    results = model.fit()\n",
    "    if results.aic < best_aic:\n",
    "        best_aic = results.aic\n",
    "        best_params = param\n",
    "    \n",
    "\n",
    "print(f\"Best AIC: {best_aic}\")\n",
    "print(f\"Best Parameters: {best_params}\")\n"
   ]
  },
  {
   "cell_type": "code",
   "execution_count": 6,
   "metadata": {},
   "outputs": [
    {
     "name": "stdout",
     "output_type": "stream",
     "text": [
      "Average MAPE: 52.63648939468439\n"
     ]
    }
   ],
   "source": [
    "#we train the best model\n",
    "model = sm.tsa.ARIMA(train_data['Price'], order=best_params)\n",
    "results = model.fit()\n",
    "\n",
    "#we evaluate the model on test_data['Price'] with the MAPE measure\n",
    "\n",
    "test_data_ = test_data['Price'].copy()\n",
    "def mean_absolute_percentage_error(y_true, y_pred):\n",
    "    s = 0\n",
    "    for i in range(len(y_true)):\n",
    "        s += np.abs((y_true[i] - y_pred[i]) / y_true[i])\n",
    "    s = s/5\n",
    "    return s * 100\n",
    "\n",
    "# Nombre de prédictions à effectuer pour chaque point dans l'ensemble de test\n",
    "num_predictions = 5\n",
    "\n",
    "# Liste pour stocker les résultats de la précision de prédiction (MAPE)\n",
    "mape_results = []\n",
    "\n",
    "# Boucle sur l'ensemble de test\n",
    "for i in range(len(test_data_) - num_predictions):\n",
    "    \n",
    "    # Select the next 'num_predictions' points for prediction\n",
    "    test_subset = test_data[i : i + num_predictions]\n",
    "    # Make predictions for the next 'num_predictions' points\n",
    "    forecast = results.forecast(steps=num_predictions)\n",
    "    # Calculate MAPE for these predictions\n",
    "    \n",
    "    mape = mean_absolute_percentage_error(list(test_subset['Price']), list(forecast))\n",
    "    mape_results.append(mape)\n",
    "# Calculate the average MAPE across all predictions\n",
    "average_mape = np.mean(mape_results)\n",
    "print(f\"Average MAPE: {average_mape}\")\n"
   ]
  },
  {
   "cell_type": "markdown",
   "metadata": {},
   "source": []
  }
 ],
 "metadata": {
  "kernelspec": {
   "display_name": "tf",
   "language": "python",
   "name": "python3"
  },
  "language_info": {
   "codemirror_mode": {
    "name": "ipython",
    "version": 3
   },
   "file_extension": ".py",
   "mimetype": "text/x-python",
   "name": "python",
   "nbconvert_exporter": "python",
   "pygments_lexer": "ipython3",
   "version": "3.9.16"
  }
 },
 "nbformat": 4,
 "nbformat_minor": 2
}
